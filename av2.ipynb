{
 "cells": [
  {
   "cell_type": "markdown",
   "metadata": {},
   "source": [
    "# Exercício 1"
   ]
  },
  {
   "cell_type": "markdown",
   "metadata": {},
   "source": [
    "![alt text](ex2.png)"
   ]
  },
  {
   "cell_type": "code",
   "execution_count": null,
   "metadata": {},
   "outputs": [],
   "source": []
  },
  {
   "cell_type": "markdown",
   "metadata": {},
   "source": [
    "# Exercício 2"
   ]
  },
  {
   "cell_type": "markdown",
   "metadata": {},
   "source": [
    "![alt text](ex1.png)"
   ]
  },
  {
   "cell_type": "markdown",
   "metadata": {},
   "source": [
    "![alt text](fluxograma2.png)"
   ]
  },
  {
   "cell_type": "code",
   "execution_count": 16,
   "metadata": {},
   "outputs": [
    {
     "name": "stdout",
     "output_type": "stream",
     "text": [
      "Probabilidade de transmissão (T): 0.7301\n",
      "Probabilidade de reflexão (R): 0.2699\n"
     ]
    }
   ],
   "source": [
    "import numpy as np\n",
    "\n",
    "#Condições iniciais\n",
    "m = 9.11e-31  # massa do e- em kg\n",
    "E = 10* 1.6e-19  # Energia cinética em Joules (10 eV)\n",
    "h = 6.626e-34  # constante de Planck em J.s\n",
    "V = 9* 1.6e-19  # potencial em Joules (9 eV)\n",
    "h_c = h / (2*np.pi) #h cortado\n",
    "\n",
    "k1 = ((2*m*E)**(1/2)) / h_c #vetor de onda\n",
    "k2 = ((2*m*(E-V))**(1/2)) / h_c #vetor de onda menor\n",
    "\n",
    "#probabilidades\n",
    "T = (4*k1*k2) / ((k1+k2)**2)\n",
    "R = ((k1-k2))**2 / ((k1+k2))**2\n",
    "\n",
    "print(f\"Probabilidade de transmissão (T): {T:.4f}\")\n",
    "print(f\"Probabilidade de reflexão (R): {R:.4f}\")"
   ]
  },
  {
   "cell_type": "markdown",
   "metadata": {},
   "source": [
    "# Exercício 3\n",
    "![alt text](ex3.png)"
   ]
  },
  {
   "cell_type": "code",
   "execution_count": 26,
   "metadata": {},
   "outputs": [
    {
     "name": "stdout",
     "output_type": "stream",
     "text": [
      "Quando N igual a 3, o Valor de S é 4.3333\n"
     ]
    }
   ],
   "source": [
    "N = int(input(\"Digite um número inteiro:\"))\n",
    "\n",
    "#calculo de S:\n",
    "for i in range (1, N+1):\n",
    "    if i == 1:\n",
    "        S = i/N\n",
    "    else:\n",
    "        S = S + (i/ (N -(i-1)))\n",
    "\n",
    "print(f\"Quando N igual a {N}, o Valor de S é {S:.4f}\")"
   ]
  },
  {
   "cell_type": "markdown",
   "metadata": {},
   "source": [
    "# Exercício 4\n",
    "![alt text](ex4.png)"
   ]
  },
  {
   "cell_type": "code",
   "execution_count": null,
   "metadata": {},
   "outputs": [],
   "source": []
  },
  {
   "cell_type": "markdown",
   "metadata": {},
   "source": [
    "# Exercício 5\n",
    "![alt text](ex5.png)\n"
   ]
  },
  {
   "cell_type": "code",
   "execution_count": null,
   "metadata": {},
   "outputs": [],
   "source": []
  }
 ],
 "metadata": {
  "kernelspec": {
   "display_name": "base",
   "language": "python",
   "name": "python3"
  },
  "language_info": {
   "codemirror_mode": {
    "name": "ipython",
    "version": 3
   },
   "file_extension": ".py",
   "mimetype": "text/x-python",
   "name": "python",
   "nbconvert_exporter": "python",
   "pygments_lexer": "ipython3",
   "version": "3.12.7"
  }
 },
 "nbformat": 4,
 "nbformat_minor": 2
}
